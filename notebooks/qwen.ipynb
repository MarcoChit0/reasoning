{
 "cells": [
  {
   "cell_type": "code",
   "execution_count": null,
   "id": "4311c97f",
   "metadata": {},
   "outputs": [],
   "source": [
    "from reasoning.utils import from_config\n",
    "\n",
    "config_path = \"../src/configs/qwen-3.yaml\"\n",
    "model_dir = \"qwen-3\"\n",
    "\n",
    "config = from_config(config_path)\n",
    "model_config = config.get(\"model_config\", {})\n",
    "generation_config = config.get(\"generation_config\", {})"
   ]
  },
  {
   "cell_type": "code",
   "execution_count": null,
   "id": "f6b1bdec",
   "metadata": {},
   "outputs": [],
   "source": [
    "from reasoning.models import get_model_from_model_config\n",
    "\n",
    "model = get_model_from_model_config(**model_config)"
   ]
  },
  {
   "cell_type": "code",
   "execution_count": null,
   "id": "85498ed2",
   "metadata": {},
   "outputs": [],
   "source": [
    "from reasoning.task import get_tasks\n",
    "from reasoning.generate import generate\n",
    "\n",
    "domains = [\"blocksworld\", \"logistics\", \"miconic\", \"spanner\"]\n",
    "templates = [\"pddl\", \"landmark\"]\n",
    "\n",
    "for template in templates:\n",
    "    for domain in domains:\n",
    "        try:\n",
    "            tasks = get_tasks(domain)[0]\n",
    "        except ValueError as e:\n",
    "            raise ValueError(f\"Error getting tasks for domain '{domain}': {e}\")\n",
    "        print(f\"\\nDomain: {domain}\\nTemplate: {template}\\nGeneration Config: {generation_config}\\n\")\n",
    "        generate(model=model, tasks=tasks, template=template, samples=1, experiment=\"kaggle\", model_dir=\"qwen-3\", **generation_config)"
   ]
  }
 ],
 "metadata": {
  "kernelspec": {
   "display_name": "reasoning",
   "language": "python",
   "name": "python3"
  },
  "language_info": {
   "codemirror_mode": {
    "name": "ipython",
    "version": 3
   },
   "file_extension": ".py",
   "mimetype": "text/x-python",
   "name": "python",
   "nbconvert_exporter": "python",
   "pygments_lexer": "ipython3",
   "version": "3.11.13"
  }
 },
 "nbformat": 4,
 "nbformat_minor": 5
}
