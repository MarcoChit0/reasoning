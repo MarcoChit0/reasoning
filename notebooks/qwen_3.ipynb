{
  "nbformat": 4,
  "nbformat_minor": 0,
  "metadata": {
    "colab": {
      "provenance": [],
      "gpuType": "T4"
    },
    "kernelspec": {
      "name": "python3",
      "display_name": "Python 3"
    },
    "language_info": {
      "name": "python"
    },
    "accelerator": "GPU"
  },
  "cells": [
    {
      "cell_type": "code",
      "execution_count": null,
      "metadata": {
        "id": "yOnNNp7Rlzka"
      },
      "outputs": [],
      "source": [
        "!git clone https://github.com/MarcoChit0/reasoning"
      ]
    },
    {
      "cell_type": "code",
      "source": [
        "%cd reasoning/\n",
        "!dir\n",
        "!pip install ."
      ],
      "metadata": {
        "id": "RndipTCmt9h_"
      },
      "execution_count": null,
      "outputs": []
    },
    {
      "cell_type": "code",
      "metadata": {
        "id": "45c22e50"
      },
      "source": [
        "!make build_submodules"
      ],
      "execution_count": null,
      "outputs": []
    },
    {
      "cell_type": "code",
      "source": [
        "from reasoning.utils import from_config\n",
        "\n",
        "config_path = \"reasoning/src/configs/qwen-3.yaml\"\n",
        "model_dir = \"qwen-3\"\n",
        "\n",
        "config = from_config(config_path)\n",
        "model_config = config.get(\"model_config\", {})\n",
        "generation_config = config.get(\"generation_config\", {})"
      ],
      "metadata": {
        "id": "AkPeTdojuPN-"
      },
      "execution_count": null,
      "outputs": []
    },
    {
      "cell_type": "code",
      "source": [
        "from reasoning.models import get_model_from_model_config\n",
        "\n",
        "model = get_model_from_model_config(**model_config)"
      ],
      "metadata": {
        "id": "nan29WVNvIzp"
      },
      "execution_count": null,
      "outputs": []
    },
    {
      "cell_type": "code",
      "source": [
        "from reasoning.task import get_tasks\n",
        "from reasoning.generate import generate\n",
        "\n",
        "domains = [\"blocksworld\", \"logistics\", \"miconic\", \"spanner\"]\n",
        "templates = [\"pddl\", \"landmark\"]\n",
        "\n",
        "for template in templates:\n",
        "    for domain in domains:\n",
        "        try:\n",
        "            tasks = get_tasks(domain)[0]\n",
        "        except ValueError as e:\n",
        "            raise ValueError(f\"Error getting tasks for domain '{domain}': {e}\")\n",
        "        print(f\"\\nDomain: {domain}\\nTemplate: {template}\\nGeneration Config: {generation_config}\\n\")\n",
        "        generate(model=model, tasks=tasks, template=template, samples=1, experiment=\"kaggle\", model_dir=\"qwen-3\", **generation_config)"
      ],
      "metadata": {
        "id": "idMkxYeuvz0d"
      },
      "execution_count": null,
      "outputs": []
    }
  ]
}